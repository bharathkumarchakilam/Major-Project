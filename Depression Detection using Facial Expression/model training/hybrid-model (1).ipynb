{
 "cells": [
  {
   "cell_type": "code",
   "execution_count": 1,
   "id": "559de740",
   "metadata": {
    "_cell_guid": "b1076dfc-b9ad-4769-8c92-a6c4dae69d19",
    "_uuid": "8f2839f25d086af736a60e9eeb907d3b93b6e0e5",
    "execution": {
     "iopub.execute_input": "2025-02-27T06:52:10.238517Z",
     "iopub.status.busy": "2025-02-27T06:52:10.238272Z",
     "iopub.status.idle": "2025-02-27T06:52:10.243634Z",
     "shell.execute_reply": "2025-02-27T06:52:10.242850Z"
    },
    "papermill": {
     "duration": 0.010514,
     "end_time": "2025-02-27T06:52:10.244915",
     "exception": false,
     "start_time": "2025-02-27T06:52:10.234401",
     "status": "completed"
    },
    "tags": []
   },
   "outputs": [
    {
     "name": "stdout",
     "output_type": "stream",
     "text": [
      "Dataset Path Set!\n"
     ]
    }
   ],
   "source": [
    "import os\n",
    "\n",
    "dataset_path = \"/kaggle/input/depression/Dataset\"\n",
    "train_dir = os.path.join(dataset_path, \"training\")\n",
    "val_dir = os.path.join(dataset_path, \"validation\")\n",
    "test_dir = os.path.join(dataset_path, \"testsets\")\n",
    "\n",
    "print(\"Dataset Path Set!\")"
   ]
  },
  {
   "cell_type": "code",
   "execution_count": 2,
   "id": "d9ba9a12",
   "metadata": {
    "execution": {
     "iopub.execute_input": "2025-02-27T06:52:10.252303Z",
     "iopub.status.busy": "2025-02-27T06:52:10.252093Z",
     "iopub.status.idle": "2025-02-27T06:52:22.021271Z",
     "shell.execute_reply": "2025-02-27T06:52:22.020612Z"
    },
    "papermill": {
     "duration": 11.773856,
     "end_time": "2025-02-27T06:52:22.022859",
     "exception": false,
     "start_time": "2025-02-27T06:52:10.249003",
     "status": "completed"
    },
    "tags": []
   },
   "outputs": [],
   "source": [
    "import numpy as np\n",
    "import tensorflow as tf\n",
    "from tensorflow.keras.layers import *\n",
    "from tensorflow.keras.models import Model\n",
    "from tensorflow.keras.preprocessing.image import ImageDataGenerator\n",
    "from tensorflow.keras.applications import EfficientNetB0"
   ]
  },
  {
   "cell_type": "code",
   "execution_count": 3,
   "id": "6f846f82",
   "metadata": {
    "execution": {
     "iopub.execute_input": "2025-02-27T06:52:22.029722Z",
     "iopub.status.busy": "2025-02-27T06:52:22.029273Z",
     "iopub.status.idle": "2025-02-27T06:52:38.734761Z",
     "shell.execute_reply": "2025-02-27T06:52:38.733902Z"
    },
    "papermill": {
     "duration": 16.710369,
     "end_time": "2025-02-27T06:52:38.736230",
     "exception": false,
     "start_time": "2025-02-27T06:52:22.025861",
     "status": "completed"
    },
    "tags": []
   },
   "outputs": [
    {
     "name": "stdout",
     "output_type": "stream",
     "text": [
      "Found 16141 images belonging to 2 classes.\n",
      "Found 2622 images belonging to 2 classes.\n",
      "Found 2071 images belonging to 2 classes.\n",
      "Data Loaded Successfully!\n"
     ]
    }
   ],
   "source": [
    "# Image size expected by EfficientNet\n",
    "IMG_SIZE = (224, 224)\n",
    "BATCH_SIZE = 32\n",
    "\n",
    "train_datagen = ImageDataGenerator(rescale=1./255, horizontal_flip=True)\n",
    "val_datagen = ImageDataGenerator(rescale=1./255)\n",
    "test_datagen = ImageDataGenerator(rescale=1./255)\n",
    "\n",
    "train_data = train_datagen.flow_from_directory(train_dir, target_size=IMG_SIZE, batch_size=BATCH_SIZE, class_mode='binary')\n",
    "val_data = val_datagen.flow_from_directory(val_dir, target_size=IMG_SIZE, batch_size=BATCH_SIZE, class_mode='binary')\n",
    "test_data = test_datagen.flow_from_directory(test_dir, target_size=IMG_SIZE, batch_size=BATCH_SIZE, class_mode='binary')\n",
    "\n",
    "print(\"Data Loaded Successfully!\")"
   ]
  },
  {
   "cell_type": "code",
   "execution_count": 4,
   "id": "3a7cf4c8",
   "metadata": {
    "execution": {
     "iopub.execute_input": "2025-02-27T06:52:38.743068Z",
     "iopub.status.busy": "2025-02-27T06:52:38.742828Z",
     "iopub.status.idle": "2025-02-27T06:52:38.747493Z",
     "shell.execute_reply": "2025-02-27T06:52:38.746515Z"
    },
    "papermill": {
     "duration": 0.009372,
     "end_time": "2025-02-27T06:52:38.748754",
     "exception": false,
     "start_time": "2025-02-27T06:52:38.739382",
     "status": "completed"
    },
    "tags": []
   },
   "outputs": [
    {
     "name": "stdout",
     "output_type": "stream",
     "text": [
      "FCN Model Ready!\n"
     ]
    }
   ],
   "source": [
    "def build_fcn(input_shape=(224, 224, 3)):\n",
    "    base_model = EfficientNetB0(weights=\"imagenet\", include_top=False, input_shape=input_shape)\n",
    "    \n",
    "    x = GlobalAveragePooling2D()(base_model.output)\n",
    "    x = Dense(128, activation=\"relu\")(x)\n",
    "    \n",
    "    return Model(inputs=base_model.input, outputs=x, name=\"FCN_Model\")\n",
    "\n",
    "print(\"FCN Model Ready!\")"
   ]
  },
  {
   "cell_type": "code",
   "execution_count": 5,
   "id": "95ee6b12",
   "metadata": {
    "execution": {
     "iopub.execute_input": "2025-02-27T06:52:38.755361Z",
     "iopub.status.busy": "2025-02-27T06:52:38.755137Z",
     "iopub.status.idle": "2025-02-27T06:52:38.758820Z",
     "shell.execute_reply": "2025-02-27T06:52:38.758121Z"
    },
    "papermill": {
     "duration": 0.008168,
     "end_time": "2025-02-27T06:52:38.759967",
     "exception": false,
     "start_time": "2025-02-27T06:52:38.751799",
     "status": "completed"
    },
    "tags": []
   },
   "outputs": [
    {
     "name": "stdout",
     "output_type": "stream",
     "text": [
      "Fusion Fuzzy Logic Layer Ready!\n"
     ]
    }
   ],
   "source": [
    "def fusion_fuzzy_logic_layer(inputs):\n",
    "    fuzzy_output = Dense(64, activation=\"tanh\")(inputs)\n",
    "    return fuzzy_output\n",
    "\n",
    "print(\"Fusion Fuzzy Logic Layer Ready!\")"
   ]
  },
  {
   "cell_type": "code",
   "execution_count": 6,
   "id": "aa7a9992",
   "metadata": {
    "execution": {
     "iopub.execute_input": "2025-02-27T06:52:38.766557Z",
     "iopub.status.busy": "2025-02-27T06:52:38.766331Z",
     "iopub.status.idle": "2025-02-27T06:52:38.770113Z",
     "shell.execute_reply": "2025-02-27T06:52:38.769377Z"
    },
    "papermill": {
     "duration": 0.008234,
     "end_time": "2025-02-27T06:52:38.771186",
     "exception": false,
     "start_time": "2025-02-27T06:52:38.762952",
     "status": "completed"
    },
    "tags": []
   },
   "outputs": [
    {
     "name": "stdout",
     "output_type": "stream",
     "text": [
      "LSTM Model Ready!\n"
     ]
    }
   ],
   "source": [
    "def build_lstm(input_shape):\n",
    "    inputs = Input(shape=input_shape)\n",
    "    x = LSTM(64, return_sequences=False)(inputs)\n",
    "    return Model(inputs, x, name=\"LSTM_Model\")\n",
    "\n",
    "print(\"LSTM Model Ready!\")"
   ]
  },
  {
   "cell_type": "code",
   "execution_count": 7,
   "id": "0d162d1e",
   "metadata": {
    "execution": {
     "iopub.execute_input": "2025-02-27T06:52:38.777844Z",
     "iopub.status.busy": "2025-02-27T06:52:38.777651Z",
     "iopub.status.idle": "2025-02-27T06:52:38.781946Z",
     "shell.execute_reply": "2025-02-27T06:52:38.781330Z"
    },
    "papermill": {
     "duration": 0.008818,
     "end_time": "2025-02-27T06:52:38.783046",
     "exception": false,
     "start_time": "2025-02-27T06:52:38.774228",
     "status": "completed"
    },
    "tags": []
   },
   "outputs": [],
   "source": [
    "from tensorflow.keras.layers import Lambda\n",
    "\n",
    "def build_hybrid_model(input_shape=(224, 224, 3)):\n",
    "    fcn_model = build_fcn(input_shape)\n",
    "    \n",
    "    fcn_features = fcn_model.output\n",
    "    fuzzy_output = fusion_fuzzy_logic_layer(fcn_features)\n",
    "    \n",
    "    lstm_input = Lambda(lambda x: tf.expand_dims(x, axis=1))(fuzzy_output)\n",
    "    \n",
    "    # ✅ FIX: Ensure lstm_input shape is compatible\n",
    "    lstm_model = build_lstm((1, int(fuzzy_output.shape[-1])))\n",
    "    \n",
    "    lstm_output = lstm_model(lstm_input)\n",
    "    \n",
    "    final_output = Dense(1, activation='sigmoid')(lstm_output)\n",
    "    \n",
    "    model = Model(inputs=fcn_model.input, outputs=final_output, name=\"Hybrid_Depression_Model\")\n",
    "    \n",
    "    return model"
   ]
  },
  {
   "cell_type": "code",
   "execution_count": 8,
   "id": "8ee41d04",
   "metadata": {
    "execution": {
     "iopub.execute_input": "2025-02-27T06:52:38.789564Z",
     "iopub.status.busy": "2025-02-27T06:52:38.789330Z",
     "iopub.status.idle": "2025-02-27T07:16:22.125653Z",
     "shell.execute_reply": "2025-02-27T07:16:22.124927Z"
    },
    "papermill": {
     "duration": 1423.340994,
     "end_time": "2025-02-27T07:16:22.127006",
     "exception": false,
     "start_time": "2025-02-27T06:52:38.786012",
     "status": "completed"
    },
    "tags": []
   },
   "outputs": [
    {
     "name": "stdout",
     "output_type": "stream",
     "text": [
      "Downloading data from https://storage.googleapis.com/keras-applications/efficientnetb0_notop.h5\n",
      "\u001b[1m16705208/16705208\u001b[0m \u001b[32m━━━━━━━━━━━━━━━━━━━━\u001b[0m\u001b[37m\u001b[0m \u001b[1m2s\u001b[0m 0us/step\n",
      "Epoch 1/10\n"
     ]
    },
    {
     "name": "stderr",
     "output_type": "stream",
     "text": [
      "/usr/local/lib/python3.10/dist-packages/keras/src/trainers/data_adapters/py_dataset_adapter.py:122: UserWarning: Your `PyDataset` class should call `super().__init__(**kwargs)` in its constructor. `**kwargs` can include `workers`, `use_multiprocessing`, `max_queue_size`. Do not pass these arguments to `fit()`, as they will be ignored.\n",
      "  self._warn_if_super_not_called()\n"
     ]
    },
    {
     "name": "stdout",
     "output_type": "stream",
     "text": [
      "\u001b[1m505/505\u001b[0m \u001b[32m━━━━━━━━━━━━━━━━━━━━\u001b[0m\u001b[37m\u001b[0m \u001b[1m182s\u001b[0m 285ms/step - accuracy: 0.8184 - loss: 0.4030 - val_accuracy: 0.5789 - val_loss: 0.6837\n",
      "Epoch 2/10\n",
      "\u001b[1m505/505\u001b[0m \u001b[32m━━━━━━━━━━━━━━━━━━━━\u001b[0m\u001b[37m\u001b[0m \u001b[1m138s\u001b[0m 271ms/step - accuracy: 0.9124 - loss: 0.2276 - val_accuracy: 0.9073 - val_loss: 0.2301\n",
      "Epoch 3/10\n",
      "\u001b[1m505/505\u001b[0m \u001b[32m━━━━━━━━━━━━━━━━━━━━\u001b[0m\u001b[37m\u001b[0m \u001b[1m137s\u001b[0m 271ms/step - accuracy: 0.9362 - loss: 0.1731 - val_accuracy: 0.9195 - val_loss: 0.2200\n",
      "Epoch 4/10\n",
      "\u001b[1m505/505\u001b[0m \u001b[32m━━━━━━━━━━━━━━━━━━━━\u001b[0m\u001b[37m\u001b[0m \u001b[1m137s\u001b[0m 270ms/step - accuracy: 0.9427 - loss: 0.1530 - val_accuracy: 0.9211 - val_loss: 0.2004\n",
      "Epoch 5/10\n",
      "\u001b[1m505/505\u001b[0m \u001b[32m━━━━━━━━━━━━━━━━━━━━\u001b[0m\u001b[37m\u001b[0m \u001b[1m138s\u001b[0m 273ms/step - accuracy: 0.9473 - loss: 0.1440 - val_accuracy: 0.9115 - val_loss: 0.2466\n",
      "Epoch 6/10\n",
      "\u001b[1m505/505\u001b[0m \u001b[32m━━━━━━━━━━━━━━━━━━━━\u001b[0m\u001b[37m\u001b[0m \u001b[1m137s\u001b[0m 271ms/step - accuracy: 0.9570 - loss: 0.1278 - val_accuracy: 0.9134 - val_loss: 0.2387\n",
      "Epoch 7/10\n",
      "\u001b[1m505/505\u001b[0m \u001b[32m━━━━━━━━━━━━━━━━━━━━\u001b[0m\u001b[37m\u001b[0m \u001b[1m137s\u001b[0m 271ms/step - accuracy: 0.9603 - loss: 0.1128 - val_accuracy: 0.9123 - val_loss: 0.2516\n",
      "Epoch 8/10\n",
      "\u001b[1m505/505\u001b[0m \u001b[32m━━━━━━━━━━━━━━━━━━━━\u001b[0m\u001b[37m\u001b[0m \u001b[1m137s\u001b[0m 270ms/step - accuracy: 0.9642 - loss: 0.1018 - val_accuracy: 0.9272 - val_loss: 0.2184\n",
      "Epoch 9/10\n",
      "\u001b[1m505/505\u001b[0m \u001b[32m━━━━━━━━━━━━━━━━━━━━\u001b[0m\u001b[37m\u001b[0m \u001b[1m137s\u001b[0m 270ms/step - accuracy: 0.9704 - loss: 0.0881 - val_accuracy: 0.9100 - val_loss: 0.2832\n",
      "Epoch 10/10\n",
      "\u001b[1m505/505\u001b[0m \u001b[32m━━━━━━━━━━━━━━━━━━━━\u001b[0m\u001b[37m\u001b[0m \u001b[1m137s\u001b[0m 271ms/step - accuracy: 0.9680 - loss: 0.0932 - val_accuracy: 0.9203 - val_loss: 0.2552\n"
     ]
    }
   ],
   "source": [
    "input_shape = (224, 224, 3)\n",
    "model = build_hybrid_model(input_shape)\n",
    "\n",
    "model.compile(optimizer='adam', loss='binary_crossentropy', metrics=['accuracy'])\n",
    "\n",
    "history = model.fit(train_data, validation_data=val_data, epochs=10)"
   ]
  },
  {
   "cell_type": "code",
   "execution_count": 9,
   "id": "0e444df6",
   "metadata": {
    "execution": {
     "iopub.execute_input": "2025-02-27T07:16:22.642140Z",
     "iopub.status.busy": "2025-02-27T07:16:22.641841Z",
     "iopub.status.idle": "2025-02-27T07:16:22.911452Z",
     "shell.execute_reply": "2025-02-27T07:16:22.910583Z"
    },
    "papermill": {
     "duration": 0.505803,
     "end_time": "2025-02-27T07:16:22.912751",
     "exception": false,
     "start_time": "2025-02-27T07:16:22.406948",
     "status": "completed"
    },
    "tags": []
   },
   "outputs": [
    {
     "data": {
      "image/png": "[encoded data removed]",
      "text/plain": [
       "<Figure size 700x500 with 1 Axes>"
      ]
     },
     "metadata": {},
     "output_type": "display_data"
    }
   ],
   "source": [
    "import matplotlib.pyplot as plt\n",
    "\n",
    "# Plot training & validation accuracy values\n",
    "plt.figure(figsize=(7, 5))\n",
    "plt.plot(history.history['accuracy'], label='Train Accuracy', marker='o')\n",
    "plt.plot(history.history['val_accuracy'], label='Validation Accuracy', marker='s')\n",
    "plt.xlabel('Epochs')\n",
    "plt.ylabel('Accuracy')\n",
    "plt.title('Model Accuracy')\n",
    "plt.legend()\n",
    "plt.grid(True)\n",
    "plt.show()"
   ]
  },
  {
   "cell_type": "code",
   "execution_count": 10,
   "id": "0342b32a",
   "metadata": {
    "execution": {
     "iopub.execute_input": "2025-02-27T07:16:23.383964Z",
     "iopub.status.busy": "2025-02-27T07:16:23.383474Z",
     "iopub.status.idle": "2025-02-27T07:16:24.017040Z",
     "shell.execute_reply": "2025-02-27T07:16:24.016134Z"
    },
    "papermill": {
     "duration": 0.86836,
     "end_time": "2025-02-27T07:16:24.018292",
     "exception": false,
     "start_time": "2025-02-27T07:16:23.149932",
     "status": "completed"
    },
    "tags": []
   },
   "outputs": [
    {
     "name": "stdout",
     "output_type": "stream",
     "text": [
      "Model1 Saved Successfully!\n"
     ]
    }
   ],
   "source": [
    "# Save the model to a specified path\n",
    "model.save(\"/kaggle/working/depression_detection_hybrid_model1.h5\")\n",
    "\n",
    "print(\"Model1 Saved Successfully!\")"
   ]
  },
  {
   "cell_type": "code",
   "execution_count": 11,
   "id": "ad34af38",
   "metadata": {
    "execution": {
     "iopub.execute_input": "2025-02-27T07:16:24.483298Z",
     "iopub.status.busy": "2025-02-27T07:16:24.482820Z",
     "iopub.status.idle": "2025-02-27T07:16:25.246482Z",
     "shell.execute_reply": "2025-02-27T07:16:25.245589Z"
    },
    "papermill": {
     "duration": 0.994861,
     "end_time": "2025-02-27T07:16:25.247765",
     "exception": false,
     "start_time": "2025-02-27T07:16:24.252904",
     "status": "completed"
    },
    "tags": []
   },
   "outputs": [
    {
     "name": "stdout",
     "output_type": "stream",
     "text": [
      "Model2 Saved Successfully!\n"
     ]
    }
   ],
   "source": [
    "model.save(\"/kaggle/working/depression_detection_hybrid_model2.keras\")\n",
    "print(\"Model2 Saved Successfully!\")"
   ]
  },
  {
   "cell_type": "code",
   "execution_count": 12,
   "id": "6ee94785",
   "metadata": {
    "execution": {
     "iopub.execute_input": "2025-02-27T07:16:25.756551Z",
     "iopub.status.busy": "2025-02-27T07:16:25.756205Z",
     "iopub.status.idle": "2025-02-27T07:16:26.505106Z",
     "shell.execute_reply": "2025-02-27T07:16:26.504475Z"
    },
    "papermill": {
     "duration": 1.025822,
     "end_time": "2025-02-27T07:16:26.506382",
     "exception": false,
     "start_time": "2025-02-27T07:16:25.480560",
     "status": "completed"
    },
    "tags": []
   },
   "outputs": [
    {
     "name": "stdout",
     "output_type": "stream",
     "text": [
      "Found 2071 images belonging to 2 classes.\n"
     ]
    }
   ],
   "source": [
    "from tensorflow.keras.preprocessing.image import ImageDataGenerator\n",
    "\n",
    "test_datagen = ImageDataGenerator(rescale=1.0 / 255.0)  # Normalize pixel values\n",
    "\n",
    "test_generator = test_datagen.flow_from_directory(\n",
    "    \"/kaggle/input/depression/Dataset/testsets\",  # Adjust path if needed\n",
    "    target_size=(224, 224),  \n",
    "    batch_size=32,  \n",
    "    class_mode=\"binary\",  \n",
    "    shuffle=False\n",
    ")"
   ]
  },
  {
   "cell_type": "code",
   "execution_count": 13,
   "id": "90b909a6",
   "metadata": {
    "execution": {
     "iopub.execute_input": "2025-02-27T07:16:26.985866Z",
     "iopub.status.busy": "2025-02-27T07:16:26.985291Z",
     "iopub.status.idle": "2025-02-27T07:16:38.142320Z",
     "shell.execute_reply": "2025-02-27T07:16:38.141628Z"
    },
    "papermill": {
     "duration": 11.395834,
     "end_time": "2025-02-27T07:16:38.143670",
     "exception": false,
     "start_time": "2025-02-27T07:16:26.747836",
     "status": "completed"
    },
    "tags": []
   },
   "outputs": [
    {
     "name": "stdout",
     "output_type": "stream",
     "text": [
      "\u001b[1m65/65\u001b[0m \u001b[32m━━━━━━━━━━━━━━━━━━━━\u001b[0m\u001b[37m\u001b[0m \u001b[1m11s\u001b[0m 139ms/step\n"
     ]
    }
   ],
   "source": [
    "import numpy as np\n",
    "\n",
    "y_true = test_generator.classes  # Actual labels (0: Not Depressed, 1: Depressed)\n",
    "y_pred_probs = model.predict(test_generator)  # Predicted probabilities\n",
    "y_pred = np.where(y_pred_probs > 0.5, 1, 0)  # Convert probabilities to binary (threshold = 0.5)"
   ]
  },
  {
   "cell_type": "code",
   "execution_count": 14,
   "id": "8ebdf0e6",
   "metadata": {
    "execution": {
     "iopub.execute_input": "2025-02-27T07:16:38.678540Z",
     "iopub.status.busy": "2025-02-27T07:16:38.678198Z",
     "iopub.status.idle": "2025-02-27T07:16:39.453097Z",
     "shell.execute_reply": "2025-02-27T07:16:39.452058Z"
    },
    "papermill": {
     "duration": 1.074113,
     "end_time": "2025-02-27T07:16:39.454594",
     "exception": false,
     "start_time": "2025-02-27T07:16:38.380481",
     "status": "completed"
    },
    "tags": []
   },
   "outputs": [
    {
     "name": "stdout",
     "output_type": "stream",
     "text": [
      "Confusion Matrix:\n",
      " [[1153   31]\n",
      " [ 129  758]]\n"
     ]
    }
   ],
   "source": [
    "from sklearn.metrics import confusion_matrix\n",
    "\n",
    "cm = confusion_matrix(y_true, y_pred)\n",
    "print(\"Confusion Matrix:\\n\", cm)"
   ]
  },
  {
   "cell_type": "code",
   "execution_count": 15,
   "id": "5eaa52c7",
   "metadata": {
    "execution": {
     "iopub.execute_input": "2025-02-27T07:16:39.943698Z",
     "iopub.status.busy": "2025-02-27T07:16:39.942671Z",
     "iopub.status.idle": "2025-02-27T07:16:39.957184Z",
     "shell.execute_reply": "2025-02-27T07:16:39.956148Z"
    },
    "papermill": {
     "duration": 0.256863,
     "end_time": "2025-02-27T07:16:39.958346",
     "exception": false,
     "start_time": "2025-02-27T07:16:39.701483",
     "status": "completed"
    },
    "tags": []
   },
   "outputs": [
    {
     "name": "stdout",
     "output_type": "stream",
     "text": [
      "Accuracy: 0.9227426364075326\n",
      "Classification Report:\n",
      "                precision    recall  f1-score   support\n",
      "\n",
      "Not Depressed       0.90      0.97      0.94      1184\n",
      "    Depressed       0.96      0.85      0.90       887\n",
      "\n",
      "     accuracy                           0.92      2071\n",
      "    macro avg       0.93      0.91      0.92      2071\n",
      " weighted avg       0.93      0.92      0.92      2071\n",
      "\n"
     ]
    }
   ],
   "source": [
    "from sklearn.metrics import classification_report, accuracy_score\n",
    "\n",
    "accuracy = accuracy_score(y_true, y_pred)\n",
    "report = classification_report(y_true, y_pred, target_names=[\"Not Depressed\", \"Depressed\"])\n",
    "\n",
    "print(\"Accuracy:\", accuracy)\n",
    "print(\"Classification Report:\\n\", report)"
   ]
  }
 ],
 "metadata": {
  "kaggle": {
   "accelerator": "gpu",
   "dataSources": [
    {
     "datasetId": 6504327,
     "sourceId": 10506521,
     "sourceType": "datasetVersion"
    }
   ],
   "dockerImageVersionId": 30887,
   "isGpuEnabled": true,
   "isInternetEnabled": true,
   "language": "python",
   "sourceType": "notebook"
  },
  "kernelspec": {
   "display_name": "Python 3",
   "language": "python",
   "name": "python3"
  },
  "language_info": {
   "codemirror_mode": {
    "name": "ipython",
    "version": 3
   },
   "file_extension": ".py",
   "mimetype": "text/x-python",
   "name": "python",
   "nbconvert_exporter": "python",
   "pygments_lexer": "ipython3",
   "version": "3.10.12"
  },
  "papermill": {
   "default_parameters": {},
   "duration": 1476.515084,
   "end_time": "2025-02-27T07:16:44.234557",
   "environment_variables": {},
   "exception": null,
   "input_path": "__notebook__.ipynb",
   "output_path": "__notebook__.ipynb",
   "parameters": {},
   "start_time": "2025-02-27T06:52:07.719473",
   "version": "2.6.0"
  }
 },
 "nbformat": 4,
 "nbformat_minor": 5
}
